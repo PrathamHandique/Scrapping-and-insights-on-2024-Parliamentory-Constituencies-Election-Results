{
 "cells": [
  {
   "cell_type": "code",
   "execution_count": 3,
   "id": "59d17c1b",
   "metadata": {},
   "outputs": [],
   "source": [
    "from bs4 import BeautifulSoup\n",
    "import requests\n",
    "url=\"https://results.eci.gov.in/PcResultGenJune2024/index.htm\"\n",
    "page=requests.get(url)\n",
    "soup=BeautifulSoup(page.text,'html')\n"
   ]
  },
  {
   "cell_type": "code",
   "execution_count": 5,
   "id": "3b6aa01e",
   "metadata": {},
   "outputs": [],
   "source": [
    "table=soup.find_all('table')\n"
   ]
  },
  {
   "cell_type": "code",
   "execution_count": 6,
   "id": "d3ad643a",
   "metadata": {},
   "outputs": [],
   "source": [
    "table=soup.find_all('table')[0]"
   ]
  },
  {
   "cell_type": "code",
   "execution_count": 7,
   "id": "bd1996b7",
   "metadata": {},
   "outputs": [],
   "source": [
    "title=table.find_all('th')"
   ]
  },
  {
   "cell_type": "code",
   "execution_count": 8,
   "id": "4c17d2b5",
   "metadata": {},
   "outputs": [
    {
     "name": "stdout",
     "output_type": "stream",
     "text": [
      "['Party', 'Won', 'Leading', 'Total', 'Total', '543', '0', '543']\n"
     ]
    }
   ],
   "source": [
    "title_heads=[title.text for title in title]\n",
    "print(title_heads)"
   ]
  },
  {
   "cell_type": "code",
   "execution_count": 9,
   "id": "0575ea79",
   "metadata": {},
   "outputs": [
    {
     "name": "stdout",
     "output_type": "stream",
     "text": [
      "['Party', 'Won', 'Leading', 'Total']\n"
     ]
    }
   ],
   "source": [
    "ths = table.find_all('th')\n",
    "desired_ths = [th for th in ths if th.get_text(strip=True) in ['Party', 'Won', 'Leading', 'Total']]\n",
    "world_table_titles=[title.text for title in desired_ths]\n",
    "if world_table_titles[-1] == 'Total':\n",
    "    world_table_titles.remove('Total')\n",
    "\n",
    "print(world_table_titles)"
   ]
  },
  {
   "cell_type": "code",
   "execution_count": 10,
   "id": "67b1ff32",
   "metadata": {},
   "outputs": [],
   "source": [
    "import pandas as pd\n",
    "df = pd.DataFrame(columns=world_table_titles)\n",
    "column_data = table.find_all('tr')\n",
    "extracted_data = []\n",
    "for row in column_data[1:]:  \n",
    "    rowdata = row.find_all('td')\n",
    "    individual_row_data = [data.text.strip() for data in rowdata]\n",
    "    extracted_data.append(individual_row_data)\n",
    "new_data = pd.DataFrame(extracted_data, columns=world_table_titles)\n",
    "df = pd.concat([df, new_data], ignore_index=True)\n",
    "df.drop(df.index[-1], inplace=True)"
   ]
  },
  {
   "cell_type": "code",
   "execution_count": 11,
   "id": "f521970a",
   "metadata": {},
   "outputs": [
    {
     "data": {
      "text/html": [
       "<div>\n",
       "<style scoped>\n",
       "    .dataframe tbody tr th:only-of-type {\n",
       "        vertical-align: middle;\n",
       "    }\n",
       "\n",
       "    .dataframe tbody tr th {\n",
       "        vertical-align: top;\n",
       "    }\n",
       "\n",
       "    .dataframe thead th {\n",
       "        text-align: right;\n",
       "    }\n",
       "</style>\n",
       "<table border=\"1\" class=\"dataframe\">\n",
       "  <thead>\n",
       "    <tr style=\"text-align: right;\">\n",
       "      <th></th>\n",
       "      <th>Party</th>\n",
       "      <th>Won</th>\n",
       "      <th>Leading</th>\n",
       "      <th>Total</th>\n",
       "    </tr>\n",
       "  </thead>\n",
       "  <tbody>\n",
       "    <tr>\n",
       "      <th>0</th>\n",
       "      <td>Bharatiya Janata Party - BJP</td>\n",
       "      <td>240</td>\n",
       "      <td>0</td>\n",
       "      <td>240</td>\n",
       "    </tr>\n",
       "    <tr>\n",
       "      <th>1</th>\n",
       "      <td>Indian National Congress - INC</td>\n",
       "      <td>99</td>\n",
       "      <td>0</td>\n",
       "      <td>99</td>\n",
       "    </tr>\n",
       "    <tr>\n",
       "      <th>2</th>\n",
       "      <td>Samajwadi Party - SP</td>\n",
       "      <td>37</td>\n",
       "      <td>0</td>\n",
       "      <td>37</td>\n",
       "    </tr>\n",
       "    <tr>\n",
       "      <th>3</th>\n",
       "      <td>All India Trinamool Congress - AITC</td>\n",
       "      <td>29</td>\n",
       "      <td>0</td>\n",
       "      <td>29</td>\n",
       "    </tr>\n",
       "    <tr>\n",
       "      <th>4</th>\n",
       "      <td>Dravida Munnetra Kazhagam - DMK</td>\n",
       "      <td>22</td>\n",
       "      <td>0</td>\n",
       "      <td>22</td>\n",
       "    </tr>\n",
       "  </tbody>\n",
       "</table>\n",
       "</div>"
      ],
      "text/plain": [
       "                                 Party  Won Leading Total\n",
       "0         Bharatiya Janata Party - BJP  240       0   240\n",
       "1       Indian National Congress - INC   99       0    99\n",
       "2                 Samajwadi Party - SP   37       0    37\n",
       "3  All India Trinamool Congress - AITC   29       0    29\n",
       "4      Dravida Munnetra Kazhagam - DMK   22       0    22"
      ]
     },
     "execution_count": 11,
     "metadata": {},
     "output_type": "execute_result"
    }
   ],
   "source": [
    "df.head()"
   ]
  },
  {
   "cell_type": "code",
   "execution_count": 15,
   "id": "502729c5",
   "metadata": {},
   "outputs": [],
   "source": [
    "df.to_csv('/Users/prathamhandique/kalvium/election_results',index=False)"
   ]
  },
  {
   "cell_type": "code",
   "execution_count": 16,
   "id": "38f780eb",
   "metadata": {},
   "outputs": [
    {
     "name": "stdout",
     "output_type": "stream",
     "text": [
      "                                                Party  Won Leading Total\n",
      "0                        Bharatiya Janata Party - BJP  240       0   240\n",
      "1                      Indian National Congress - INC   99       0    99\n",
      "2                                Samajwadi Party - SP   37       0    37\n",
      "3                 All India Trinamool Congress - AITC   29       0    29\n",
      "4                     Dravida Munnetra Kazhagam - DMK   22       0    22\n",
      "5                                  Telugu Desam - TDP   16       0    16\n",
      "6                        Janata Dal  (United) - JD(U)   12       0    12\n",
      "7      Shiv Sena (Uddhav Balasaheb Thackrey) - SHSUBT    9       0     9\n",
      "8   Nationalist Congress Party – Sharadchandra Paw...    8       0     8\n",
      "9                                     Shiv Sena - SHS    7       0     7\n",
      "10             Lok Janshakti Party(Ram Vilas) - LJPRV    5       0     5\n",
      "11      Yuvajana Sramika Rythu Congress Party - YSRCP    4       0     4\n",
      "12                         Rashtriya Janata Dal - RJD    4       0     4\n",
      "13       Communist Party of India  (Marxist) - CPI(M)    4       0     4\n",
      "14                  Indian Union Muslim League - IUML    3       0     3\n",
      "15                             Aam Aadmi Party - AAAP    3       0     3\n",
      "16                       Jharkhand Mukti Morcha - JMM    3       0     3\n",
      "17                               Janasena Party - JnP    2       0     2\n",
      "18  Communist Party of India  (Marxist-Leninist)  ...    2       0     2\n",
      "19                      Janata Dal  (Secular) - JD(S)    2       0     2\n",
      "20               Viduthalai Chiruthaigal Katchi - VCK    2       0     2\n",
      "21                     Communist Party of India - CPI    2       0     2\n",
      "22                            Rashtriya Lok Dal - RLD    2       0     2\n",
      "23          Jammu & Kashmir National Conference - JKN    2       0     2\n",
      "24              United People’s Party, Liberal - UPPL    1       0     1\n",
      "25                           Asom Gana Parishad - AGP    1       0     1\n",
      "26            Hindustani Awam Morcha (Secular) - HAMS    1       0     1\n",
      "27                              Kerala Congress - KEC    1       0     1\n",
      "28                Revolutionary Socialist Party - RSP    1       0     1\n",
      "29                   Nationalist Congress Party - NCP    1       0     1\n",
      "30                  Voice of the People Party - VOTPP    1       0     1\n",
      "31                      Zoram People’s Movement - ZPM    1       0     1\n",
      "32                          Shiromani Akali Dal - SAD    1       0     1\n",
      "33                  Rashtriya Loktantrik Party - RLTP    1       0     1\n",
      "34                  Bharat Adivasi Party - BHRTADVSIP    1       0     1\n",
      "35                     Sikkim Krantikari Morcha - SKM    1       0     1\n",
      "36      Marumalarchi Dravida Munnetra Kazhagam - MDMK    1       0     1\n",
      "37             Aazad Samaj Party (Kanshi Ram) - ASPKR    1       0     1\n",
      "38                         Apna Dal (Soneylal) - ADAL    1       0     1\n",
      "39                                 AJSU Party - AJSUP    1       0     1\n",
      "40     All India Majlis-E-Ittehadul Muslimeen - AIMIM    1       0     1\n",
      "41                                  Independent - IND    7       0     7\n"
     ]
    }
   ],
   "source": [
    "print(df)"
   ]
  },
  {
   "cell_type": "code",
   "execution_count": null,
   "id": "2e9cf63b",
   "metadata": {},
   "outputs": [],
   "source": []
  }
 ],
 "metadata": {
  "kernelspec": {
   "display_name": "Python 3 (ipykernel)",
   "language": "python",
   "name": "python3"
  },
  "language_info": {
   "codemirror_mode": {
    "name": "ipython",
    "version": 3
   },
   "file_extension": ".py",
   "mimetype": "text/x-python",
   "name": "python",
   "nbconvert_exporter": "python",
   "pygments_lexer": "ipython3",
   "version": "3.10.9"
  }
 },
 "nbformat": 4,
 "nbformat_minor": 5
}
